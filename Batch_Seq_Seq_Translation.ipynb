{
  "nbformat": 4,
  "nbformat_minor": 0,
  "metadata": {
    "colab": {
      "name": "Batch Seq-Seq Translation",
      "provenance": [],
      "collapsed_sections": [],
      "authorship_tag": "ABX9TyPUjxWWHiMZ0Hqla4xBLB2X",
      "include_colab_link": true
    },
    "kernelspec": {
      "name": "python3",
      "display_name": "Python 3"
    },
    "accelerator": "GPU"
  },
  "cells": [
    {
      "cell_type": "markdown",
      "metadata": {
        "id": "view-in-github",
        "colab_type": "text"
      },
      "source": [
        "<a href=\"https://colab.research.google.com/github/kaleem500bc/Batch-encoder-decoder-translation/blob/main/Batch_Seq_Seq_Translation.ipynb\" target=\"_parent\"><img src=\"https://colab.research.google.com/assets/colab-badge.svg\" alt=\"Open In Colab\"/></a>"
      ]
    },
    {
      "cell_type": "code",
      "metadata": {
        "id": "nA4fiFEXzPZV",
        "colab": {
          "base_uri": "https://localhost:8080/"
        },
        "outputId": "c83bd2b7-988d-48e4-a427-10af413883d7"
      },
      "source": [
        "!wget https://www.manythings.org/anki/deu-eng.zip -O german-eng.zip\n",
        "!unzip german-eng.zip"
      ],
      "execution_count": null,
      "outputs": [
        {
          "output_type": "stream",
          "text": [
            "--2020-11-30 08:35:09--  https://www.manythings.org/anki/deu-eng.zip\n",
            "Resolving www.manythings.org (www.manythings.org)... 172.67.173.198, 104.24.108.196, 104.24.109.196, ...\n",
            "Connecting to www.manythings.org (www.manythings.org)|172.67.173.198|:443... connected.\n",
            "HTTP request sent, awaiting response... 200 OK\n",
            "Length: 8440213 (8.0M) [application/zip]\n",
            "Saving to: ‘german-eng.zip’\n",
            "\n",
            "german-eng.zip      100%[===================>]   8.05M  18.9MB/s    in 0.4s    \n",
            "\n",
            "2020-11-30 08:35:10 (18.9 MB/s) - ‘german-eng.zip’ saved [8440213/8440213]\n",
            "\n",
            "Archive:  german-eng.zip\n",
            "  inflating: deu.txt                 \n",
            "  inflating: _about.txt              \n"
          ],
          "name": "stdout"
        }
      ]
    },
    {
      "cell_type": "code",
      "metadata": {
        "id": "Ea80JZRKyxPF"
      },
      "source": [
        "from io import open \n",
        "import unicodedata\n",
        "import string\n",
        "import re\n",
        "import random\n",
        "import torch\n",
        "import torch.nn as nn\n",
        "from torch import optim\n",
        "from torch.nn import functional as F\n",
        "import string\n",
        "import numpy as np\n",
        "from matplotlib import pyplot as plt\n",
        "from termcolor import colored"
      ],
      "execution_count": 31,
      "outputs": []
    },
    {
      "cell_type": "code",
      "metadata": {
        "id": "vGYC-6JXz54-"
      },
      "source": [
        "data = open(\"/content/deu.txt\").read()\n",
        "dataSplit = data.split('\\n')"
      ],
      "execution_count": 2,
      "outputs": []
    },
    {
      "cell_type": "code",
      "metadata": {
        "id": "XYlp2HCb-l1Y"
      },
      "source": [
        "longest_sent = 0\n",
        "j = 0\n",
        "ind = 0\n",
        "def normalize(x):\n",
        "  global longest_sent, j\n",
        "  for i in range(len(x)):\n",
        "    x[i] = x[i].lower().strip(string.punctuation)\n",
        "    x[i] = re.sub(r\"([.!?])\", r\" \\1\", x[i])\n",
        "    x[i] = re.sub(r\"[^a-zA-Z.!\\x7f-\\xff?]+\", r\" \", x[i])\n",
        "    temp = len(x[i].split())\n",
        "    if longest_sent < temp:\n",
        "      longest_sent = temp\n",
        "      ind = j\n",
        "  j += 1\n",
        "\n",
        "  return x"
      ],
      "execution_count": 3,
      "outputs": []
    },
    {
      "cell_type": "code",
      "metadata": {
        "id": "rxTsZogU6716"
      },
      "source": [
        "text_data =np.array([ normalize(dataSplit[i].split('\\t')[:2]) for i in range(\n",
        "    len(dataSplit))][:-1])\n",
        "np.random.shuffle(text_data)"
      ],
      "execution_count": 4,
      "outputs": []
    },
    {
      "cell_type": "code",
      "metadata": {
        "id": "lLoPdiOuUaO5"
      },
      "source": [
        "eng_vocab = set([\n",
        "         word \n",
        "         for sentence in text_data[:,0] # All sentences\n",
        "         for word in sentence.split() \n",
        "         ])\n",
        "deut_vocab = set([\n",
        "         word \n",
        "         for sentence in text_data[:,1] # All sentences\n",
        "         for word in sentence.split() \n",
        "         ])\n",
        "vocab_size = len(deut_vocab)+3\n",
        "eng_word2int = { word:i+1 for i,word in enumerate(eng_vocab)}\n",
        "deut_word2int = { word:i+3 for i,word in enumerate(deut_vocab)}\n",
        "deut_word2int['<sos>'] = 1\n",
        "deut_word2int['<eos>'] = 2\n",
        "eng_int2word = {eng_word2int[key]:key for key in eng_word2int}\n",
        "deut_int2word = {deut_word2int[key]:key for key in deut_word2int}"
      ],
      "execution_count": 5,
      "outputs": []
    },
    {
      "cell_type": "code",
      "metadata": {
        "id": "aYxzK8mf2BtF"
      },
      "source": [
        "def word2intFunc(x_y):\n",
        "  x,y = x_y[0],x_y[1]\n",
        "  x = torch.tensor([eng_word2int[w] for w in x.split()], dtype=torch.long)\n",
        "  y = torch.tensor([deut_word2int[w] for w in (\"<sos> \" + y + \" <eos>\").split()], \n",
        "                   dtype = torch.long)\n",
        "  offsets = x.shape[0]\n",
        "  return [x,y, offsets]\n",
        "\n",
        "encoded_data = [word2intFunc(d) for d in text_data]"
      ],
      "execution_count": 6,
      "outputs": []
    },
    {
      "cell_type": "code",
      "metadata": {
        "id": "1CataHUqHX7F"
      },
      "source": [
        "class Dataset(torch.utils.data.Dataset):\n",
        "\n",
        "  def __init__(self, encoded_data):\n",
        "    self.data = encoded_data\n",
        "\n",
        "  def __getitem__(self,idx):\n",
        "    source_target = self.data[idx]\n",
        "    return source_target\n",
        "\n",
        "  \n",
        "  def __len__(self):\n",
        "    return len(self.data)\n",
        "\n"
      ],
      "execution_count": 7,
      "outputs": []
    },
    {
      "cell_type": "code",
      "metadata": {
        "id": "hNZCXQiBA2Rq"
      },
      "source": [
        "def get_batch(batch):\n",
        "  source = [b[0] for b in batch]\n",
        "  target = [b[1] for b in batch]\n",
        "  offset = torch.tensor([b[2] for b in batch])\n",
        "  source = nn.utils.rnn.pad_sequence(source, batch_first=True)\n",
        "  target = nn.utils.rnn.pad_sequence(target,batch_first=True)\n",
        "  return source, target, offset\n"
      ],
      "execution_count": 8,
      "outputs": []
    },
    {
      "cell_type": "code",
      "metadata": {
        "id": "F9KxEY9d_5Bj"
      },
      "source": [
        "batch_size = 256\n",
        "dataset = Dataset(encoded_data)\n",
        "test_offset = int(len(dataset)*0.2)\n",
        "testset = dataset[:test_offset]\n",
        "dataset = dataset[test_offset:]\n",
        "dataloader = torch.utils.data.DataLoader(dataset,batch_size=batch_size, collate_fn=get_batch)"
      ],
      "execution_count": 9,
      "outputs": []
    },
    {
      "cell_type": "code",
      "metadata": {
        "id": "wVXHv0_fH6Gi"
      },
      "source": [
        "class Encoder(nn.Module):\n",
        "  def __init__(self, vocab_size,layers = 1,bdr = False, hidden=512,batch_size = 1,embedd_dim = 512):\n",
        "    super().__init__()\n",
        "    self.num_layers = layers\n",
        "    self.batch_size = batch_size\n",
        "    self.bdr = bdr\n",
        "    self.hidden = hidden\n",
        "    self.embedd_dim = embedd_dim\n",
        "    self.Embeddings = nn.Embedding(vocab_size,embedd_dim, padding_idx=0)\n",
        "    self.lstm = nn.LSTM(embedd_dim,hidden_size=hidden,num_layers=layers,batch_first=True, bidirectional=bdr)\n",
        "  \n",
        "  def forward(self,x,offsets,h_cell):\n",
        "    # input shape is batch x seq_length x input_size\n",
        "    x = F.relu(self.Embeddings(x))\n",
        "    # input shape for lstm is batch x seq_len x input_size\n",
        "    x = x.view(x.shape[0],x.shape[1],self.embedd_dim)\n",
        "    x = nn.utils.rnn.pack_padded_sequence(x,offsets,enforce_sorted=False,batch_first=True)\n",
        "    x, h_cell = self.lstm(x,h_cell)\n",
        "    return x,h_cell\n",
        "\n",
        "class Decoder(nn.Module):\n",
        "  def __init__(self, vocab_size,layers = 1,bdr = False, hidden=512,batch_size = 1,embedd_dim = 512):\n",
        "    super().__init__()\n",
        "    self.num_layers = layers\n",
        "    self.batch_size = batch_size\n",
        "    self.bdr = bdr\n",
        "    self.hidden = hidden\n",
        "    # self.embedd_dim = embedd_dim\n",
        "    # self.Embeddings = nn.Embedding(vocab_size,embedd_dim)\n",
        "    self.lstm = nn.LSTM(1, hidden_size=hidden, num_layers = layers,batch_first=True, bidirectional = bdr)\n",
        "    self.linear = nn.Linear(hidden*(1+bdr), vocab_size)\n",
        "\n",
        "  def forward(self, x, hidden,batch_size):\n",
        "    # x = F.relu(self.Embeddings(x))\n",
        "    # x = x.view(batch_size, x.shape[0], 1)\n",
        "    x, hidden = self.lstm(x, hidden)\n",
        "    x = x.view(x.shape[0],-1)\n",
        "    x = self.linear(x)\n",
        "    return x,hidden\n",
        "\n",
        "def init_hidden(model, batch_size):\n",
        "  for layer,weight in zip(model.modules(),model.parameters()):\n",
        "    if type(layer) == nn.LSTM:\n",
        "      hidden = (torch.zeros((model.num_layers*(model.bdr+1), batch_size, model.hidden),dtype=torch.float).to(\"cuda\"),\n",
        "                torch.zeros((model.num_layers*(model.bdr+1), batch_size, model.hidden),dtype=torch.float).to(\"cuda\"))\n",
        "  return hidden"
      ],
      "execution_count": 10,
      "outputs": []
    },
    {
      "cell_type": "markdown",
      "metadata": {
        "id": "l1VibM0LzTod"
      },
      "source": [
        "From https://pytorch.org/tutorials/intermediate/seq2seq_translation_tutorial.html\n",
        "![Capture.PNG](data:image/png;base64,iVBORw0KGgoAAAANSUhEUgAAAf8AAADRCAYAAADCILtMAAAAAXNSR0IArs4c6QAAAARnQU1BAACxjwv8YQUAAAAJcEhZcwAADsMAAA7DAcdvqGQAAD9sSURBVHhe7Z0H9BXF2YftvSCixt4Lsft9tsREBXuPLdFojEZjPxqjfmrsqNHYNXYFBawoIIJdUVDAAjZERKRYUQKCioJtvjyv+/69XG/Zu3dv/z3nzLl3Zsvszs7Mb+ad2Z05ghBCCCFaCom/EEII0WJI/IUQQogWQ+IvhBBCtBgSfyGEEKLFkPgLIYQQLYbEXwghhGgxJP5CCCFEiyHxF0IIIVoMib8QQgjRYkj8hRBCiBZD4i+EEEK0GBJ/IYQQosWomvj36NEjHHPMMeHpp5+OQtKnGnE0Kn/7298sbaZNmxaF1DczZswI33zzTeTLz3fffRc+//zz8NVXX0UhQgghipGq+M8zzzxhoYUWsv+rr756mGOOOcKkSZPMf+ihh5r/yiuvNH8lSCuO559/Plx//fWRr3JUKx7o0KFDWGCBBcKHH34YheSm0DNMwi233FLQffnll9GewUT8scceC7fffnvb9rvuuisMHz48fP/999FeP/LRRx+FBx98cLZzde/ePYwYMSLaQwghRD5SFf/27duHX/ziF/Z/4403NuH4+uuvzd9I4r/ZZpuFFVZYIfJVjmrFUwqFnmEc6K2//fbbYeLEieZ3YX722WfDCy+88DM3a9Ys2+/TTz8N3bp1s33vvPPOMGTIkPD444+H2267zcL69OnT1gCYPn166Nq1a7j11lvtHO+880549dVX7Tj2HT9+vO335ptv2nX88MMP5heVpRQrDM/yiy++iPVsZs6caeeNYwmqBI1sUaQMcO2XXXZZFFI6cc6RRjzZVOKc4idSFf9VV101rL322vZ/m222CfPPP7/9h1zCTKFCYBZeeOGwzjrrhEsvvbRgZUAl8H//939hzTXXDEsssUTYf//9Q9++faOtP8Vx7bXXhrPPPjusvPLKYfPNN7eeZCaXXHJJ6NSpkwnd7rvvbj1GQDTWWGMNOwc9YOK57777bFs29FhPOOGEsNpqq4VFF100/OpXv7KevMP28847L2y77bZhscUWC1tuuWU488wzrdKLGw+9YLZhsuf/pptuGpZffvlw+umnhylTpkR7hfDtt9+Giy++OKy33nrWa6fHftRRR822z4Ybbmjn8l78iSeeaP7evXuH3/72t22CX+gZ5oNKn3t68skn20T5rbfesm0u/p999pn5c8Ez5/7Zb+jQoVHoj/DM7777btv20ksvWRhijz/z2cPkyZPD2LFj2+570KBBth/5bPDgwWYtEOlTihVmwoQJ4f77729r1PFLHnzvvfeiPX4is0HnjmPLfY4HHHCAlb0BAwaE0047ra3OcLimp556KvJVp+OSlGLWQ+oNLH6U5aQ8/PDDdv/UcfmIs0+pxDln2pbKViJV8b/55put4MC9994brrjiCvsP2QXojjvuMP8vf/nLcNNNN4VddtnF/JnHZPP73//e9qGhcNZZZ4UVV1wxzD333OGVV16x7R4HPWrOu/3225sf55ULlRJ+xPi6665ryzD33HOPiQeiiR9BP+OMM9oEJ5vddtvN9qMBQuFDNOedd94wbtw423700Ufb9j/+8Y+WLgceeKD5aXjEjad///62z7rrrhtWWmklq7TI6IRdfvnl0V4h/OUvf7GwZZdd1hoGG220kfn5RZhhkUUWsTA3+x9yyCHmp/FFI2jXXXe18ELPMJsPPvjAevQ8Sypm0pAKnx6d45V2IfFnm+/3n//8Jwr9CawAbEMkgPTDTyMDgec68vUKOR8VJM+dYxhGwFqQ2TASpYHlhefMvIy4VhggjxOGw5LD/jxTD8tsLLz++usWRp567bXXwpgxY+w5Esa5sUbRkH7xxRdLfpZe9mgQXnTRRfY/swMw11xzWYPbqWfxr4b1sJ7Fv1xLZStTtQl/2QUIAcePwMHUqVOtFUfPNhejR4+2/eecc842IXn00UfD7373u7ZWu8eB6LmJuHPnzhbmreMnnnjCKhDOB174Dz/8cPNTyeAvVKComNiHHr2LDoJJmFca9Kbx9/hvr5NrQYSfeeaZtsZBnHg88+P8emko4feWPJUtaUKYN3DoSVMoCHvggQcsLFv8Pa3WWmstq8BLhfshHan4MYciwLlgn3wOSwFQ4eJHmHPBudlOXA4C48MEONIfS4BbHLLherEK0NtDqLwhIeKB0L/xxhuWxqQ3DT6sW3GtMAzrkO7sm90ze//999ueIccBPVbCKGuZUH6wHjC0QLnq2bOn7YdFgE4AwwPFOPXUUy3vc246APzv16+f1REICf527dqZZYyGrJeVYhZFynqalkwo10pJ45xtnNuhMXXcccdZp2LJJZcMe+yxR8Hy4PXQVlttFXr16hU22WQTSx/qXurtzH0yhZpn+Ic//ME6JRzTpUuXtufrEC8WTepSzs/9+rBR9jkpw3SAuB/SGpJYKsWP1ET8EUx67Pg7duwYNthgA3PzzTefheUSIwo323jw+fA46P06/CcMEz3QcMCM/Oc//9kyC+dj+3777Wfb44gyPWL2WXDBBduu3c+zww472D433nij+XFewMiw3lgoRfwp5A4VHGEUKPB0oULKhJ484Qw9QD7xx0KRBBd/0pJrQhxywT44KoKBAwfO5kaOHGn7uLhzrly4wGRvp/J89913w3PPPWfp4HHRo8sFQsSwAsIl8S8OeZVGpzeYSFsa6zwPnj/EtcIwaZP9KDu5cEuBW/Ho0eOnzCBWWHByCSlhCCEdARoPHMMQBHkrXw+Q/HHhhRdaXUADgP80KMiTW2+9tZULetRY5MhjXlYKWRQrYclMw0qZS0CXWWYZq2vp+Pz73/+2+ouhgVGjRtk+2fg5qHMY5vz73/8ellpqKQvjHjL38Xho4C2++OLmaDTtueeetn2fffax7eB1F3XTKaecYkOk+EkLyD7nsccea34aLk4plkoxOzURfyZ5YVrDTyv8X//612wul4mYFj77U1DykRmHQ2uTMMSfsXFau/gPPvhgqyj8mFLEnx4q+1AYsq+dSsDBykAjw1voOMz/UIr4e+YHJtN53IAg4qcHnwmtcsLpqUA+8S/HlEnFiWWBdKQAUgFTEbvVBdiGy/VMHXpX7IOA5GpEYFlge7EJV6QN+2EhcKEgr1GpYWb2OBAzrlMUxhtdCDPCks9CFMcK488we06H4/MzEGDguZGf/Jw4yhaTQD/55BPbJxvyDsKJCLC/i2gp0BCgXOQy+xeyKFbCkpmGlTK7DiHt8C+33HJmmQEabMOGDcs7fOLnwHn9wfPCzz1iAcqOh7JIniAcyEtsp4fv0OggjDIJ5K+99trL0ptGV+Y5mfTHfxobmfWLSE7NzP6rrLKK+TN7ArS+M1/9yoTKh/1pNPiYMj0+Mss555xj/lyClin+iAD/afV6BvKxeW+ReoFaeumlzZ8LvxZMTN674LopGN7roUCT4R16L5gDmRdAIyROPNkFCrLF34cgcJkmNc5LmKdvJcTfId7McfUe/+2t8SzBK+5C4g9UmuxHhZdZuKkQqPTZxr0DcwAQJMaMM8G0zH5UOog/Y8guSrnmI4jCuPjzbBAK7+3nopgVxsU9+5k5iDrbEaFM+C4FvXgm4JGv2AexyDXMxDPn7Q4fMkhb/PNZFCtlyaTMlGulzFWHeMMFR6fhiCOO+Fm6Z+LnoM52KEfegaNxkh0PZZiGHMMaxEe4xwnkJepC/DQec+HnxHrgQ5sMY4h0qJn4e0uO8RpE4x//+If5GdPJB2NC7IN5CEFgBjv+q6++2rYXE38qKMbW8F9wwQXh3HPPbeuV88urJYwZeqG96qqr2kzT2WyxxRa2z9577229SjI4GZSeMBmbMUEyN2Y1Ki5a8xQW7hfixBNH/IEhBcIYO6PXteOOO5ofK4c3Riop/g4FnjFZejBeoKmEcY888oilQ7bzSpyKzkWesUvEgjkBHpZZOSEyhCECpBEmYioFLDKEe++R3ibzLDTLPxk0aGlouehSTmnkZY/b5iLbCkMjFf9DDz0U7fETlBdvpBWyyJC/vDecaQWigUCjwocOGIsn/xRrcOaikPjnq1cqYclMy0qZqw7heqmXGBr0+tDrrlz4ORjScBiX9wYPnarseHizCT9zIKifb7jhBvPjgLrYBZ25JLnwc5K2bsmkUUXaiPKpmfjzABnbcVFiXBzhzzd2DB9//LGNHWFq4hjGnZgg4hQrpICZDlMcGY8xPMRw3333Nb9PouM1OISZTJdPHJmktNNOO7UVAEQ9c18EirFBL1yY2TD5Z4p8sXhyFdxc4k/lx4x/5iCwjXOSTlyjUw3xzwWVViGXOc7Is6dB4BYEBIFeZ67KgfTNnCmOQ6QQgUI9VFE6iC6iTI/ax9VJewQgrhWGnqILvFtwHPKA78s5ESfG7ckH2SZ+4mFfxJ/zMlEPPw1B8gqCWI44uPhnjivHqVfStmSmZaXMrkNIM+oFn3RJWjExkX18/D6bTBH2L4Ty3D0sl9nfGy4+t4bnhR/n98NkPfw+cZLnTsOGSYIMQWSf0+dRZNb5IjlVE/98kBkRdX7jQm+2nHc5iSu7NU5P3DMl4I/zyggt2GI9oXxjlBA3njhw/Yh7M7SMSZM4eQKhp/LJNclMpA/izBAWZmvM2XGtMEDDlzAcQo3Y+XAPwp9pocHqQzgNOoQDsWRoAEsC4Qgrz57hHCYTUo7SgPgQGCa2cQ/cYxzxT9uSmZaVMltAOY5Owvrrr28WNhp0Bx10kO1Dbz0XPCO285ox52GSHVYAwuiRQ3Y8/ioxgk3ewMJBh4Uw4qW8cp/46YzRKfNjfv3rX9s5ss/JMBRDrVyH5uyUT83FXwjR2JRihaFxyjCZizhWA4Q+e2iGhizHcx4/JyKCadonqlUCerb+nQxmwDOMFUf8K2HJTMNKmS2gQJr/z//8jw1Lci4aHSeffLI1OHLB632cAyFnAjFzl/Az9OmWxOx4mG/B0CdhiD75gwYex2It5d7JG1hamATIfqQ3w6iFXh/krQbCuBZRHhJ/IUQqlGKFwarj73MXA3Mw5820zFUaXi1MEl/alsw0rZTZIPZJ5kVwvXE/rJS9H3HmulbSrBkslo2ExF8IIYRoMST+QgghRIsh8RdCCCFaDIm/EEII0WJI/IUQQogWQ+IvhBBCtBgSfyGEEKLFkPgLIYQQLYbEXwiROny05phjjmlzLEdbKsU+AsTHfyr9YRi+NlduHMU+Rc59+DfzKwX3wId0yoG0yLdWQVL49HlmPuGLf6I61IX4p1FR8HnQQl/kqkYhToNi98EXsipdUaRRGfFZ0+xPu2ZCHKV+lUwVRePAWv7+yVa+686CNXHh07B8s59P+rLoS/aSr5QRFv7hc78sNMQqkknXdmC1Ta4Tl7lyJPH+5je/sc/m8o19PtU7dOjQaGtxuEbyqC/4s/LKK4cjjzxytsW2uE8WseHztnzil0/23njjjdHWeCDGLJvry+Oy4E4m1Hlchy/6xdoDN910U7Q1HqytwOeFSQs+zcuCZrnqB75GuPXWW1s8K664YhRaGL7RT/5YffXV7ThW7RPVoS7Ev5yKgm9sU7A4nu9qZwtCpQsxi5gQnu2IrxSK3QfXzHe92UZFQSErtRAXqyjSqIxYutWX4aViZuEQhN6hAZW53juroBVa+CgTVRSNg5dplpkuBRZvIV/w/X/yEr/4WT8AaFTyvX/y2IgRI2zJZraz1G+psCoei8T44jgu/ix+g8gts8wytsKeL3zTrl27thX4ioFAcgzLbbMegS9Jy0qfQAPf1xD461//agsB+UI+3HMcuE5Etn379m3fx88u06xOSDhxsUAQawVQtlkoKQ7Ucx06dLA19c8///zwpz/9yc7nC/pkwtoCnpZxxd9577337DiV6epRV+JfakXB6lkcxyIVrJvN2tH4WY0LqlGI+/bta/7//d//tczvjlW24lLsPqjwaBhQaFln/LTTTmtbQCTX+ui5KFZRpFEZjR492ipirpuKGeHHz1r+QOODSpseG+vCU9nSOPOlXOOiiqL+SVqmyc/kGZYEBhqL+D2fk4/xu1DT2yS/kacKLaKTDVYpFqbZZJNNQqdOnexa/ZyU8yOOOMJ+gTioM9iHfB0HX4Fv8ODB5h80aJD5WcYWaMywRC9l2Tn88MNtn9NPPz0KKcyAAQPC8ccfb1ZNX0I3s0yTdqyCR93haw188MEHVn4KWRczueaaa+y8J510kvlJN5Ynp3OTacXgedN5O+WUU2x/iX/909Di70tiek/eC5gvCVmNQoxw4T/22GPNn4Ri90H6sJrWDTfcYH6gh84+V1xxRRRSmGIVRRqVEeZXKmZff5/09rX5WUCEddz5zxrsDvdKWNznAaoo6p+kZRohJz+4tYhGIX7yEVBG8HN+xxsMvsJcHBhaxALG8sQsqcu1Zpr9M2HpYbbTq43bwGB5XI5hmVrKw2GHHWb+zPKVCUNgLCPMPt7oL4VcZZrySNiBBx5o98A1sWog5ScurBrIOTItgFhSCWM1RmBogedMp4V5BWyrpvgz5IOVSJRGQ4s/JiyOQ9CAli5+eqy5qEQhppfv2zGr7bDDDlZg4pqyoZT7oDJkqIHlP2l9s655qeSqKLJJUhnRwMiumGl4EYbJftSoUfafpTodRJ8wxhXjIvGvf5KUaXqj9ODJD95TJQw/jv+s6c9/HwYAD4u71C+CTx1w3nnnmb+Q+L/44otmLWP7P//5zyg0Hl53uGM5Wr+vTFiVjyE29mFsPcncJF9fP7NMM+xGGOWYugLLIX5M+Ax5xIElhzmGORjO7rvvbmE9e/Y0P8MBNKSYm8FqiGyrtPiTF+hM3H333VbvnnvuuWHgwIHRVhGHhhV/Jr6xFjXH+cQywvDjMseZoVKFmB65hzOpxq+JzE+hLkYp90GcHr7lllvOJrKlkKuiyCRpZcT661TCDBNgtuX6vOJG+CdPnmz/WcudypteAmP+hPXv3z86S3Ek/vVPkjJN/nbxd7M0eQ8/QsZ2xvbxZwq9W5xYe78YlCfWr2eIyycJ5hN/xGTRRRe1bfl67PnAsuDzZjCdd+7c2QQ424qGWJJGXtYoI0nIVabprRPGdVA26VzsvPPOFoZVLw4+zOlCD36O++67zxrvCD/iC9USf+Ijjfl1x1wiLADkPfLHxIkTbc4WacoERc9T4kcaVvwpuC6aLpCMKeNnnD9zpnklCzG9XRoDl19+uRUuRG3ZZZe1uK6//nrbpxCl3AccfPDBVkC4BiqtJD3/QuJfTmWEtYAKgYoYx/i+T+5jIhcwfOLbcQwB8Mv8gLhI/OufJGUaEBnyg88BwUKH/8477zQ/c0XwM/bvMPOfMCxmxaBxwXUxYRYBxHl5ZV4PkwmBfMkYNmPmHhYXygHzaiijfk2UI8ozEwwp38AwhZdFJtKV+vZLJrnKNA3q7GdAOhKG6T4OTHZmf96KcJgrQRiWVCyd1F9YPklLn1e18MILm598EIdSyzTziKiPmRjtPX/qHq6J+p5GIhZG8gZ1EBaCm2++2e6fdGE/LLnEO3369OisrUVDm/0xfXOcFzAmoOCnMDvVKMTZ+NDA3//+9yikMHHuI5sTTjjB9mGCTankE/80KiN6apj4EXsq7t69e1vFnDkey30yOZC0xFTIdgpjXCT+9U/SMu29eHptQG8eP6Z98HkjzPIHGs8+adR78oXgDRkmAGc6n6GOZZDyRK8R8aLRn8SU7PkTUcysN7yRz/mxYvhrcZTlcslVpqlHqKuo/3yYk6EO9ttvv/3MXwwfOkDUAasgk42xctKb3m233WZLS6/LqDPx+1ypYiQt03RWGDJE/It1hEhzhJ68hYWAa6MhQIOAPESDgUZlpV+lrhcaWvx9Jr5PIMOEjJ9xKqhGIb766qvDPvvsM5vZ2mfNsy0Oxe6DSX0rrLBCWwEEWrvs428dlEKuiiKNygjLB4XH04rKmMqDgoVVA8dYI8Lv+BsBpGVcJP71T9IyTcVMfqCnxuQ+nwDILHWgccnkP4aOqLx9sl9ckclFttkfQcOPkPHacaajcRKH9ddf385B2cba4OfkVVXKGlYx/LhddtlltjjOOuus6CyF4XU9LJA4XsfjXFgG8fMWEnhPvGPHjvaKsr8lRKM8DnRwmHtEA4m3gHxyMhOpc1Ets3/a8PYX9RINCTqJ5DEmNNLYTDIHoxFoaPH31+xWWmklEyxeQcHvvYRqFGIyCP4ll1zSZvx74aAXwXhTHIrdB5USLXha00y2OfTQQ9te17v00kttn2IUqyjSqIymTJliYo/pljFGf0fbK1XSyycAMsufBhn/mUzEtrhI/OufpGUaRo4c2faWCBVxZmMREJhevXrZdhoBVNjZw2OlkC3+zAnwspDtMt+4KQQWC17LXWuttew4OgzbbbediQlgrs4+tztePYyDD2HkckcddZTtw/AJJnl6/4Qz2S/uG0LO8OHD7eNAHI8FlW+l5LMKNqr4Z4OFgzxM58TzmDdAm4WGFn9gtr2/vocAM67jVKMQw2WXXWbXjjiznf9MMCyFQvcBCDRjklgy2AezG8MKcSu9YhVFGpURUHF7xUyPn95bprAzERArCY0EHD23fMMn+ZD41z/llGmn2LcfmBjbCJO4sIRxrbWE3iudkVIa2dkg7D4vKW3quUzT0GGYgLkDNEbp2DTD0EDDiz+Qod3UXEmKFWLM3nFfIcxFnPsgfkyj5fR0qkGxyo7KKOk9SPzrHy/TNJqZeFXKnA7ROtDwJ3+45bHeyzR1PB0arherL98vaVTqSvxVUYhCNFpF0cp4mXbHPBghssGCmplPGqVM03Hhc+g+UbARGwF1Jf7uVFGIXDRqRdGKYNlhtrm7aljmROPR6PmE6/dGAHO04nzbpV6oC/FXRSHioHwihKhHqJt4bZlXTvktZ25FtagL8RdCiLi8/PLL9vZKpal0PNW4j2ZJq0aBnj+TmJkcyATJeqbpxV8VRXxUUYhGQGU6PirTtYHXUxkKIF3qdXK2xD8lKh1PNe6jWdJKNDcq0/FRma4dvCLIZEBefS71deZqIPFPCVUU8VFFIcpBZTo+KtO1h1UkeUOJhczqCYl/SqiiiI8qClEOKtPxUZmuD/g6IMMAfAStXpD4p4QqivioohDloDIdH5Xp+oHJgKzb4otS1RqJf0qoooiPKgpRDirT8VGZri94JZBFq/g6YK1fB5T4p4QqivioohDloDIdH5Xp+oP1KHgdkMmAtWwASPxTQhVFfFRRiHJQmY6PynR9QgNgwIABNW0ASPxTQhVFfFRRiHJQmY6PynT9UusGgMQ/JVRRxEcVhSgHlen4qEzXPyxWNmLEiMhXPST+KaGKIj6qKEQ5qEzHR2W6/pk1a1a46667bOGyaiLxTwlVFPFRRSHKQWU6PirTjQFLAvMdgE8++SQKqTwS/5RQRREfVRSiHFSm46My3ThMnDgx9OjRI8yYMSMKqSwS/5RQRREfVRSiHN58883w7LPPRr7KUel4qlEOBg0aVJWvylUrnmaH5YD79OlTlQmATS/+qijio4pCNAIslXrDDTeEqVOnRiGVodLxVLpMc91cf6WXlq1WPK1Cv379bD2AStP04q+KIh6qKEQjwZKpN954ozUkX3nlFZstXarjOM4zbdq06Kw/h0lY+eKJc3whKNO4pBAv8ee6Lq6X6y40iSzf8XFd3HhEafAZ4G7duoXp06dHIZWh6cUfVFGoohDNBw3I119/Pbzwwgth2LBhJTuOe+qpp6wxOn78+OisPydfPHGPz0c5ZZr4iJf4c10X11uogV3o+LguTjwiGW+88Ubo27dv5KsMLSH+oIpCFYUQuWCGNY1SZlwngeNvuummko9PWqZpiBNf0pnhHM/9Tpo0KQoR9QjiTyOgUrSM+KeFKgohmo+BAwfavJ2kJDme8pxkKI94iC8p5R4vqgPmf17/q9Tsf4l/AlRRCNFcDB8+vKw5NUmOT1qmk3YEnHKPF9VjyJAh4bnnnot86SLxT4AqCiGai6Tly0lyfNI4a3GtojZ8/fXXNvkPK0DaSPwToIpCiOZCZVrUKzyrp59+OvKlh8Q/AaoohGguVKZFvfLNN9/Y2H/SeWb5kPgnQBWFEM2FyrSoZ5j1//jjj0e+dJD4J0AVhRDNhcq0qGfo/Xft2jXVmf8S/wSoohCiuVCZFvUOH0ljsnhaSPwToIpCiOZCZVrUO1OmTLFV/9Ja9EfinwBVFEI0FyrTohHgq39JvhCbC4l/AlRRCNFcqEyLRmDs2LGhf//+ka88JP4JUEUhRPPAFyzvuusucxMmTIhC45Pk+KRx1uJaRf3w/fffh9tuuy3MnDkzCkmOxL9EVFEI0TzwCtW55547myuFJMcnjbMW1yrqj8cee8xWWC0XiX8JqKIQorngFaoLLrjA8neXLl1K/pJakuOTxlmLaxX1x5gxY8Kjjz4a+ZIj8S8BVRRCNB9YtjyfJ1lyOsnxSeOsxbWK+mLWrFlm+v/uu++ikGRI/EtEFYUQzcXbb79tefzSSy+NQkojyfFJ46zFtYr6o1+/fmUPxUr8S0QVhRDNBZOoaOTy/fQkJDk+aZy1uFZRfzAs++yzz0a+ZEj8/8vZZ58d21FwcBdddFHO7cVckuOTxpn0OHdJjxeiluTKk8XceeedZ3k917Y4LsnxSeOsxbXiRP3wySefhF69ekW+ZLS8+FMI5phjDvuN6yg8XoCSuCTHJ40z6XHuSj1+zjnnVEUhagZ5sNTyLFfcqVzXF1hwbr311vDtt99GIaUj8f9vxlamTg+lp6glyn+VQelaf/Tu3Tt89NFHka90JP7K1Kmi9BS1RPmvMihd64/nn38+vPrqq5GvdCT+ytSpovQUtUT5rzIoXeuPd955xz74kxSJvzJ1qig9RS1R/qsMStf647PPPgv33HNP5Csdib8ydaooPUUtUf6rDErX+oPJfjfffHPkKx2JvzJ1qig9RS1R/qsMStf6hO81zJgxI/KVhsRfmTpVlJ6ilij/VQala33CjP9JkyZFvtKQ+JeZqfm+Mt/Bz+XKeQczDfzafvjhhyik8rRaJUGr+8svv4x8otakkf+yy3Q9UYsyDRL/+uSJJ56wiX9JkPiXmakPPPBA+6hILrf55ptHe9WGo446yq6j3C9BlUIrVBJ8YOOVV14J3bt3D7fccos5/o8cOTLaIz2++uqrMHTo0NQqe87DcqDlvB9cz6SR//7whz/MVo7nn3/+sMoqq4TTTjstTJs2LdqrNtSiTIPEvz558cUXw/DhwyNfaUj8UxL/Qw89tE0I3D344IPRXrVB4l8ZaG3zfB9++OHw5ptvmnvggQcsLGlBzAeLK3HetMR/2LBhdr6xY8dGIc1FmuJ/2GGH2YSqa6+9ti1svfXWC59//nm0Z/WR+ItM6ITQOUiCxD8l8e/WrVsU8nNYe3n99dcPXbt2Dccff3xYZpllwhprrBHuvvvuaI8f4RxULu3atQt77bVXGDBgQLTlRy655JKw2WabhcUXXzz89re/tYo8E+Lh+CWWWMIqrkMOOWS2ioLvQe+zzz62fc0117Rv9ruo8NoI13jMMceEI444Iiy11FJ2vaXS7JXEe++9l7NhN3369DBkyJAwceLEKORHXnvtNdv3jjvuCP379w+ffvpptOVHIabRQBgNCd/HxWXgwIG2dCfxsd8HH3xg4fTa+/TpY/tz7o8//tjCp06damOAbPNJQIMGDbJj33rrLVsHvEePHnY+8t4LL7xg+zQTaYo/6ZvJHnvsYeG+0BVlh2WvsQp06NAh7L///rM9X2iGMg0S//oEa+PgwYMjX2lI/FMS/+233z6ccMIJszm+wAS8i8k+FPB1113X9sWPOdGXyu3Zs6eFzTvvvGHbbbcNCy64YFh44YXD+++/b9v/8Y9/tG1fZ5117P8888xjZh+gJ4ef8C233DIsvfTS9j1u/FQUVAgbb7yx+TfddNOw6qqr2v8LL7zQjuc68BPvXHPNFRZYYIHw5JNP2rZSaPZKYsSIESaeL730UhSSn5dfftn2RcB5Bv5/8uTJtp30JQxBppK/7777zM9/eOqpp9rEn+PJC1TohOEeeeQRExf+Ew6IPfs//fTTtuQn/zkvY8Ws0uhDFXfeeWfiHkM9U0nxv/jiiy386KOPNj/Cj5/G/NZbb23/KWNOs5RpkPjXJwzhUdaTIPFPSfxzuRtuuMH2cfFfa621wsyZMy2MwkoYvUWgUYD/8ccfNz+VeqdOnaxnR+uebQsttFDbGs608AmjUoFTTjnF/H/5y1/M/8UXX4RFFlnEwqgo6HHwv3Pnzrb966+/tu30WBAGryhwmLXpfRJeKvVQSZBGXAeFwhtXacEymohnsfF90pf9eI48C+BTnIR578/F33vg7IcfU7+DSBPmvTmPn548uMB765/JYD5UQKOCxT/cMgDkN7Y1utk/3zNOI//lE39eqyJ8l112sbKx2GKLhbnnnrutt3/AAQe0lR9oljIN9VCuxc9599132/JXqUj8y8zULv4nn3yyPYRM5y18F3/mBTiYCAnj84y8FUALH0sABTgbTLnsS6XjYPoljMKOMGBSxI+J16FSIIyKAvMi/5mEeNJJJ5lbYYUVLAxzslcUWCfKwdOTnnE5jl6zu1zbCznEj+vo0qWLOcy0mNPTgN4y4llsbN9FOfPzm0zeI8zXUnfx93wCiHWm6GSLf9++fc3/zDPPmIkY6xL+fv362XbwoQmcW5+cNMU/V9qX4irxjNMQqXzif9VVV1n4H//4xzBu3Dj7j7ndyxPCTtiVV17ZVGUa0khXkT4MMzJkmASJf5mZOs6Yv4s/Y2+OH4c4IAr8Z1wwF378QQcdFIUEa8VTucw333zWmt91111tn4ceeijaI4S9997bwqgo3GTJuCDDDpkOIfCKAtNhOXh6Zlbs1XaMZ3Md7hAHftNg1KhRJp7Z5lN6ZfTo3njjDfPTImc/RNqhV46JnnFXKncX/8yeOdsLiT/j+fh5zpj93WERcDLF33uhTprinyvtq+XyPWNcpcSfoTzCzzrrrDbxp/efXZ54vs1UpiGNdBXpQ4Mxs+FfChL/MjN1KeJ/7LHHRiGziz8sv/zy5vdKGSHp2LFjuO6660xI2MaYn5vtvOew0UYbmf+4444z//nnn29+xALzH2FUFIwj8h+Lg8N10Yvi1TWvKBiaKId6qCQQXK6DMVl6iIx1c49pwDv9PGtE2sfuwcfavaKmIsfPuK8Lt1sDeHYQR/zdhO/XzxAB/vHjx5ufiX3896EFN/tjQfDJfeQfxy0XSd8NrhfyPeM08l8u8SeN6eUz5s68D1h55ZVtDB+hB4ZeeKZM/oRmKdNQD+Va/Bz1/Mug3EztIk7re6uttprN+dhdHPHnOvAzeejEE08MK620kk3SYbY4bLPNNradiUFHHnmkjRXiZzIXUODxE37OOeeEX//617NNDqIyaN++vZkhTz311LbxxJ122smO94qC85dDvVQS9MAr9YEWep4IKI0Ant+9995rfgTXZ+QDY7KEk/7PPfec7Y+fXiPEEX+OZR+O50tenB8/eYp5Bx4H4gcIEH5+qRj4TyPATc9+7RyHFaORyfWM08h/Lv6IJuV4gw02sHJDGLPtncMPP9zCdt55ZxN0hBkTO5YXaJYyDfVSrsXs0LDUmH9Cys3ULuK5HOY7iCP+VM68w+uze+khXH755bYN6HHuu+++1tNgO4XeJxQ611xzjc3oZTuzg5mHwH8qCqDXSCOFMK6NMcoPP/zQtjWb+FcaJty5SR5RpwD6xC2HcV8EnjF+F2GfqAdxxJ/3eNkH52L9+uuv2z6EYVnwWfuYAD1s1qxZFubfJODNAcBa4cf6xMNmIo385+LvDvGlPGJm9wm7wAd/9txzz7Yy+8tf/rLNqgPNUqZB4l+faLZ/GdRbpqbSzhSDbBAUen9uSs6G44t965lKoVKfpG21SgKTb7EZ1DyrpItvAILjYp5J0nPSYyzneuqZWuQ/ng+z9/PR6GUaJP71id7zLwNl6nRReopaovxXGZSu9Ym+8FcGytTpovQUtUT5rzIoXesTJn36BNRSkfgrU6eK0lPUEuW/yqB0rU+Y06NV/RKiTJ0uSk9RS5T/KoPStT5hgqnW80+IMnW6KD1FLVH+qwxK1/qEN4mSTt6V+CtTp4rSU9QS5b/KoHStP3hLhCWnkyLxV6ZOFaWnqCXKf5VB6Vp/sJIn35BJisRfmTpVlJ6ilij/VQala/3BRD//SFwSJP7/zdR8BYuMLVe+87QUohYkLc+sCojLtS2OS3J80jiTHucuyfEq1/UHK3ayTHhSWl78gQpDLj0nRC3JlSeLOT67i8u1LY5LcnzSOJMe5y7p8aK+YKY/n/ROisRfCNHysOARC+kkJcnxSeOsxbWK+oJPdLOQGJP+kiLxF0K0PBJ/0UiwloQv7pQUib8QouWR+ItGguWsBw0aFPmSIfEXQrQ8En/RSPTr1y+MHz8+8iVD4i+EaHkk/qJRYInn2267rehS4sWQ+AshWh6Jv2gUxowZEx599NHIlxyJvxCi5ZH4i0aBD/uMHj068iVH4i+EaHkk/qIR4BU/TP4zZ86MQpIj8RdCtDwSf9EIjB07NvTv3z/ylYfEXwjR8kj8RSPQt2/fMG7cuMhXHhJ/IUTLI/EX9c7UqVND9+7dww8//BCFlIfEXwjR8kj8Rb3DR314dmkh8RdCtDy1ENSkcdbiWkVt4Rv+Xbt2DTNmzIhCykfiL4RoeST+op7hc77lrN2fC4m/EKLlGTx4sFWwSUlyfFIRLve77ml8F15Uj2+++SbcfvvtNuafJhJ/IURL8/nnn9vyqJ9++mkUUhpJj08q/sRDfF988UUUUhp+PNct6h/yyNNPPx350kPiL4RoSBC/d99913qySdzIkSPD0KFDww033GD/81EonjjH5wPxxyWBuIl32LBhP7smHNdbqHHAPhzP9XPt2cfHdcXiEeXx9ddfh27dulWkoSbxF0I0HB9++KFNgOIb588991xiN3z48DBp0qTorD+nWDzFji9EOeIPxEv8ua6L6+W6uf58FDo+rosTj0jOkCFDbEipEkj8hRANBb0geq3vv/9+FFIZKh1PueJfDK6b66+0eb9a8bQapCe9/i+//DIKSReJvxCioXjrrbfCU089FfkqR6XjQfgrPeue6x81alTkqxzViqeV6NOnjw2tVAqJvxCioah0j9mpdDzVEH/M+pWOA6oVT6uA6PMp30oi8RdCNBTVEE2odDzVuI9mSatWws3906ZNi0Iqg8RfCNFQSPzjI/FvPPr16xdeffXVyFc5JP5CiIZC4h8fiX9j8dprr4XevXuntnhPIST+QoiGQuIfH4l/4zBx4sTQo0ePVL/fXwiJvxCioZD4x0fi3xgwvs8nfD/55JMopPJI/IUQDYXEPz4S//pn1qxZ4e677w6jR4+OQqqDxF8I0VBI/OMj8a9/Hn744Yp9xa8QEn8hRMMwcODAcNddd5mbMGFCFJo+lY6nGvfRLGnVrHz//fcm/I8//nhVJvhlI/EXQjQEfPjk3HPPnc1VgkrHU437aJa0alZqLfwg8RdCNASsa37BBReYwHTp0qUiy5xCpeOpxn00S1o1I/Ug/CDxF0I0DJiWXWj+85//RKHpU+l4qnEfzZJWzQSNpQceeKDmwg8SfyFEw/D222+byFx66aVRSGWodDzVuI9mSatmYfr06bb64SuvvBKF1BaJvxCiYcBkSi+Td6IrSaXjqcZ9NEtaNQMffvihpQ9zJOoFib8QoqH49ttvzXxaaSodTzXuo1nSqpF5/fXXTfg/+uijKKQ+kPgLIYQQKfP111+HZ555Jtx3333hiy++iELrB4m/EEIIkSLMg6C3P3To0PDdd99FofWFxF8IIYRIAdbi79+/f+jVq1fdv/kg8RdCCCHKgDkPLMfbrVs3m81f69f44iDxF0IIIRKA6L/66qtm4n/sscfsdb5GQeIvhBBClADj+PTwEf0nnngiTJ06NdrSOEj8hRCpM2nSpHDMMce0uYsuuijakh5UuPS8yoHrLEQacRSD83/88ceRLxlc55dffhn5KsOMGTMKTl5jaVpmuJcC69dn5pMLL7ww2lKffPbZZ2HYsGHhjjvuaFjRdyT+QojUeeutt8Icc8wRFlhggbDOOuuEvfbaK9oSn2uvvdbOgaPCdeht/eY3vwlzzTVXWGKJJcIBBxxgs6rjwvvWCM0qq6xi51555ZXDkUceGd5///1oj/LjANZn32677SyO5ZdfPgr9CUSf61hwwQVtn7XXXjvcdNNN0dZ48C39zTbbzK5z7rnnDjvttFOYNm1atPUnGIPeeuutLZ4VV1wxCo0H76kjdrfccku47bbbzLyN0Ds0oO6//37bjrv33ntN1OMwfvx4yx+rr766XdsGG2wQbakfZs6caR/n4bO83bt3t7xII6DRkfgLIVLHxX/TTTeNQkpjzJgxYaGFFgrzzTefncfF/8033zSRW2aZZcI555wTDjroINverl272O9SI5Acs8cee1iF/rvf/c7822+/vW1PIw4+48q1r7rqqnZsLvE/7rjjbNtGG21ki+OwzzzzzBN7XXwaKx06dAiLL754OP/888Of/vQnOx/3k82VV17ZlpaliD8NGASd7/ePGDHChB//I488YtuxNtAwuPXWW8Pzzz9vz4mGExPfvvrqK9snDu+9955dW72IP8+Ze+cb/F27dg1PPfXUbI3DZkDiL4RInXLEH9PyFltsETbZZJPQqVMnO4+LP2J9xBFH2C/Qo0WU2QdxisMaa6xh+w8ePNj8gwYNMj9CDWnEcfLJJ5to0GPkuGzxp7c8//zzm9XBZ4Z/8MEHJoJ8LjcO11xzjZ37pJNOMj/pttxyy5kVIFOoeBZYYE455RTbvxTxf/TRR03s/bO0XCu9X8Lo/fI+O//79etn24H0JCxuWkGtxZ9GDA3OgQMHhjvvvLNtLJ8GQLN+uVDiL4RInXLEn/kB8847r706te2229p5Ms3+mTz33HO2nV4tY9JxOPPMM+2YQw45xETtsMMOM/9pp50W7TE7SeJwsCJwbLb4I6qEH3jggXZ+rumSSy4xEYzLiSeeaOe48cYbo5BgQxWEPfnkk+ZnaIFnsPHGG9u8AraVIv4DBgwwIed5OjSKCMNkP2rUKPvPErUOok9YKcv7Vkv8eQ+fhtHIkSMt3bk/rBpYKujlE94MJv04SPyFEKmTVPwRfET2vPPOM38h8X/xxRdD+/btbfs///nPKDQe3gBwd8YZZ7T1wDMpJw7IJ/6MnRO+2mqrWU8dcz9+TPj0QOOw55572jH33HNPFBLC7rvvbmE9e/Y0P8MBNKR4HY2PzrCtFPF/4YUXTMj79OkTPv30U3uu+HEI/+TJk+0/Vo53333XGhiM+RPGx27ikob486yGDBkSnn32WWv8MDSBRYLGCtd08803hx49eoSHHnrIrBPktYkTJ7aM2Gcj8RdCpE4S8WcS2YYbbmhj4G5qzSf+mGcXXXRR25avx54PLAuI7TbbbGOm886dO5sAn3766dEeP1JOHE4+8ae3TjjXgcAya3znnXe2sMMPPzzaqzA+V8GFHvwcfE+eHjjCz4p7kET8mb3PuVzwGd/3yX3vvPOO7cPwiW/HIbj8Mj8gLmmI/8svv2yCTqOEa5swYYKtpsfkQ9K3Xj+zWysk/kKI1Eki/kwa4xhmpSOAuGWXXdbCmJxHrw0QF8awGTP3sLggZosttpiJvb/mR++VCX5MMPTX5cqJI5N84k+vODt9GGsmDNN9HHhTgP15K8JhrgRhmLR32GGHMOecc9rwBmnpExcXXnhh82ea8gvB0AEmfgSVYY/evXubuCOsDmnJ+DhpiZWB7VxDXGo95t+KSPyFEKmTRPx5zY0Z9pnOZ6hjemfC2tixY0286DHTMy8VFxlEMVP88RPO+cuNI5N84s+4Mw0OGhg+j4ChDvbdb7/9zF8MHzpA1IHx7EUWWcReHeR1v9122222tFxqqaVsfxo++H3CYyHoMXMPnlZYZIiXCXFYanAMUyD8jr8RQDrGReJffST+QojUSSL+ucg2+yNo+BEyvh2Q6ZhEF4f111/fzsErf1gb/Jy8b864fxpxMAbOMAJvDXAuhg/w4xgbB++Jd+zY0b4zgHDjp2cdB6wUfIOABtJf//rXsNVWW9nxxJmLJGb/KVOmmNgztMDwBGP/CLs/D9LLJwAyjk5jif/MQ8g1hyIfEv/qI/EXQqROpcSfOQH4cznerY/DuHHjwt/+9rew1lpr2XH0+vkYD6+tQRpx7LjjjjmPx/HOOPAePCZ5ev+EM9nviiuusG1xGT58uH0ciOMZouBjRPm+spdE/IEZ8KxSh6jT4+djR5nCzkRAhjFoJOCYUFfq1wYl/tVH4i+ESJ20xL/SYM7mC261hDF1vjpYSk85G4Q986t7laBYOnEfSSfVSfyrj8RfCJE6Lv70rnkHvJTJX6J1wEJA/uAtAol/dZH4CyFSx8XfHa/vCZENQy2Z+UTiXz0k/kKI1MEEzIx2dz5bXIhMlE9qh8RfCCGEaDEk/kIIIUSLIfEXQgghWgyJvxBCCNFiSPyFEEKIFkPiL4QQQrQYEn8hhBCixZD4CyGEEC2GxF8IIYRoMST+QojUYLW8Y445xtaTbzR69Ohh1/70009HIaUT5/7TiCebRkn377//PnzxxRexFjFiIaHPP/88fPPNN1GISBOJvxAiL/PMM09YaKGF7P/qq69u31/3T7CyktzFF18cPvzwQ/ODr0mfGVYvsNysL6ebC9bEZ3nda6+9NgopnTj3f+ihh9o+V155ZRRSPsXiZalftg8YMCCcdtpp9r+c+xw/frwt8ZvPPfjgg9GePzJhwoRw//332zNgO7+9e/e21fyyefXVV8Odd9452/k4lpUPRXpI/IUQeWnfvn34xS9+Yf833nhjEw1fL/6yyy4z/5AhQ8wP9Sr+iNVcc81lPeRKUq/if9RRR9n2wYMHh4suusj+d+/ePdoaD86NMIOLP1aMF1544Wdu5MiRth+89NJLbSLep08f247we9iIESOiPUN4/fXXLeyee+4Jr732WhgzZkx4/vnnLYwGAXkP68GLL74YpkyZEh0lkiDxF0LkZdVVVw1rr722/d9mm23C/PPPb/933333sPDCC5uIrLDCCiZo4CJE5b/nnnuGDh06WK/z5Zdftu3AMq4nnHBCWG211cKiiy4afvWrX1kFX4ixY8fa+ZZZZhmzQHA8Kwc6LApz/PHHh/XXXz8sv/zyJnaIDlx//fXWgOG62rVrF9Zcc00zPWdDj5ht3bp1i0JCuPvuu8P+++9v8bLtsMMOs2vJh9//sGHDwo477mjxbbjhhrMtaZxL/C+55JLQqVMna2yRttnCXOz+s8Wfe+B6Dz74YBPLU0891bYjrtddd53979evn+1biMmTJ4ehQ4e29cQfeeQRC3fxp0deiE8//TTceuuttm/2oj08M8KxAhAPPPbYYxbGdWYybtw4sx589dVXdj89e/Zsi/+VV16x4QFRGhJ/IURebr75Zquc4d577w1XXHGF/b/mmmvC0ksvbSJyyCGHtAmmi9Dmm29uIkbjAf8WW2xh22G33XazMEQVYWafeeed1yr4XEydOjUsueSSdszee+8djj322DD33HOH9dZbz1aFA+JiO9u6dOli2xFeeocDBw4MW2+9tW3fbLPNwhlnnGHjydlkizJj8vhpUHCdnJdhAe7tu+++s32y8ftHeGmAEB/+xRdfvE2gsuNB6PFvueWWJsw+vELvF+Lcf6b4P/HEE5aeHTt2bOsd0+O/8MILw2effWbCyn/ENBfTp08Pw4cPD/fdd58JLM/22WefnU2844o/52E/8k4uvFGBgAM9evxYFOj5M7SUa34AYVzDo48+2jaUwFADjU63TInCSPyFEImgR4vg0DN0XITOP/9881N5zznnnGZy/+STT0x42L7YYou1TeSi8iYsn0ke0WX7DjvsEIWEcOaZZ4b99tvPxILKHrG48cYb28Rwo402smPoSQJiVygOyBblf//73+Y/8MADTRABkUKU8k1C8/u/6qqropDQZnXgGiE7HsQa8Ro9erT53Sx/+OGHm7/Y/YPHixiStlhjco2nx8F734gp1oVc9+rin895Q44GFP7MPJLJoEGDbDsNNJg1a5bdQ+a57rjjjvD4449b/snFjBkz7LnQwGB/b0iIwkj8hRCJKCT+meO4a6yxhoVh+qaC5v+CCy4YNthgA3P0kgnLFLdMsBCwnR57PhgbRkz32GMP6+XT6+eYXr162fYk4o+pfYkllrCw+eabz4YnzjvvvPDxxx/b9lz4/bsow6677mphiDhkx0NvnOGFP//5zza04umBuEOc+/d4/XqPO+64aEvpIP5du3Y1Yc4nuC7+CDPCne0w94OLO+P8uUDU2c4wSSa8tUAvngmaNJrYh+GDDz74INrjJ7ACTJw4sa3RIvGPh8RfCJGIQuKfOfEMgScM8b/rrrvs/7LLLhv+9a9/zeYQklww1s0xZ599dhQyO8wnwMzN/AHEmfOsu+66dkw54g+IHHMBGLYgDrYvt9xybeKWjd//m2++GYUEa5AQxrVBZjxYKvxaGZ9HvHy7i3+x+wePd6uttrLhGN7S8Ml5pcKzQ0jdnI5pH4sN4+1OXLM/x7HfQw89FIX8BEMnDCmwnfPlgzF+t45kvh5JA4FGhQ8d3H777dbYoDEliiPxF0IkwsWf8WCnmPgzCY//TBz0sVkmALJ/PlO6T1ajB+0wQW7fffe1CWiIKtuZWAicx03tPm7u4l+oR5wt/pigR40a1TaUwPj5dtttZ/vkEz2/f58nAUxAJMwbN5nxcH7+Y1lA5ODoo4+2sH322cf8xe4fPF56xggq/5lv4OdMAmKPeHOviCv35BMX44o/Eytd4N9+++0o9Ee4d8LZTlykN0MNzIHItjgg8uyL+NPTZ7IifqwB/fv3N8uPPycRD4m/ECIR3qOlh4r5FoqJP9CLxs/kNV796ty5s80LeOCBB2x7NowfM9GOnjc996uvvtqGDRBMJq3x7jrno0eOkGRONGTcnF46pmP8vGGA9cHH8DPJFn8EFj/hjEMjdOuss45da75eNdfFMcTPuL+b7EkX75FmxsPEQzfVX3DBBeHcc89tGybhFwtCsfuHzHRHHD2NmbeQBszG540MhBYyzf6Y5nM5b8xhvmdfHMeTD/jFz/PKfH//ySeftHCeF0JPY5G8xTAE4dwvFgMadUwm1Cz/5Ej8hRCJQHR9xj/mZogj/rzitdNOO9mMdcLXXnvtNsHNB0LAfuyP+GIq9+8L0OP7/e9/b4KI40t3iMTKK69s+zODHhOxTwJESHO9WZAt/vSambHvDQk+dkTPn9fM8sG1sS+NBe/x87ojaeVkx8ObBOzLsfTWSTt69fiZAwCF7h+y0x1hZJIlk/8yn0VauPgXcpmz7rkGGnou4pjqEfrsD/eQ5vTyfZwfR++ehmGhVyxF6Uj8hRCJoRfGq2hJoNfr73fHBRHP1WsHhg8wHWeS/blb3j5IYgrH5J997jhgvs71qlo27JM9Vk2vNvtaC91/I8B9Zs4dKATpzTMtZ+hC5EfiL4QQQrQYEn8hhBCixZD4CyGEEC2GxF8IIYRoMST+QgghRIsh8RdCCCFaDIm/EEII0WJI/IUQQogWQ+IvhBBCtBgSfyGEEKLFkPgLIYQQLYbEXwghhGgxJP5CCCFEiyHxF0IIIVqKEP4fqQmmrXmNQqUAAAAASUVORK5CYII=)"
      ]
    },
    {
      "cell_type": "code",
      "metadata": {
        "id": "di3YiM7KcYne",
        "colab": {
          "base_uri": "https://localhost:8080/"
        },
        "outputId": "64cff1f3-14ec-4606-b08b-8a540612cb45"
      },
      "source": [
        "hidden_size = 256\n",
        "\n",
        "encoder = Encoder(vocab_size, batch_size=batch_size, layers = 2, bdr=True, hidden=hidden_size)\n",
        "decoder = Decoder(vocab_size, batch_size=batch_size, layers = 2, bdr=True, hidden = hidden_size)\n",
        "criterion = nn.CrossEntropyLoss()\n",
        "encoder.to(\"cuda\")\n",
        "decoder.to(\"cuda\")"
      ],
      "execution_count": 11,
      "outputs": [
        {
          "output_type": "execute_result",
          "data": {
            "text/plain": [
              "Decoder(\n",
              "  (lstm): LSTM(1, 256, num_layers=2, batch_first=True, bidirectional=True)\n",
              "  (linear): Linear(in_features=512, out_features=35017, bias=True)\n",
              ")"
            ]
          },
          "metadata": {
            "tags": []
          },
          "execution_count": 11
        }
      ]
    },
    {
      "cell_type": "code",
      "metadata": {
        "id": "D_hnGqt02uL_"
      },
      "source": [
        "enc_optimizer = torch.optim.SGD(encoder.parameters(),lr = 0.02, momentum=0.9)\n",
        "dec_optimizer = torch.optim.SGD(decoder.parameters(),lr = 0.02, momentum=0.9)\n",
        "\n",
        "def train(epoch, teacher_forcing):\n",
        "\n",
        "  loss_epoch = []\n",
        "  \n",
        "  for e in range(epoch):\n",
        "\n",
        "    total_loss = 0\n",
        "    b = 0\n",
        "    loss = 0\n",
        "\n",
        "    for x, y, offsets in dataloader:\n",
        "\n",
        "      x = x.to(\"cuda\")\n",
        "      y = y.to(\"cuda\")\n",
        "      hidden = init_hidden(encoder,x.shape[0])\n",
        "      _, context = encoder(x,offsets, hidden)\n",
        "      dec_out = torch.ones((x.shape[0],1,1), dtype = torch.float).to(\"cuda\")\n",
        "\n",
        "      for i in range(y.shape[1]-1):\n",
        "\n",
        "        dec_out, context = decoder(dec_out, context,x.shape[0])\n",
        "\n",
        "        loss += criterion(dec_out,y[:,i+1])\n",
        "\n",
        "        # Using teacher forcing\n",
        "        if teacher_forcing < random.random():\n",
        "          dec_out = y[:,i+1].view(x.shape[0],1,1).float()\n",
        "        else:\n",
        "          # Without teacher forcing\n",
        "          dec_out = torch.argmax(dec_out,dim=1).view(x.shape[0],1,1).float()\n",
        "\n",
        "      total_loss += loss.item()\n",
        "      enc_optimizer.zero_grad()\n",
        "      dec_optimizer.zero_grad()\n",
        "\n",
        "      loss.backward()\n",
        "\n",
        "      enc_optimizer.step()\n",
        "      dec_optimizer.step()\n",
        "      \n",
        "      loss = 0\n",
        "    print(\"Loss per Epoch {}: \".format(e),total_loss)\n",
        "    loss_epoch.append(total_loss)\n",
        "  return loss_epoch"
      ],
      "execution_count": 14,
      "outputs": []
    },
    {
      "cell_type": "code",
      "metadata": {
        "id": "BF8UpUYBBTTu"
      },
      "source": [
        "loss_epoch = train(10,0.2)"
      ],
      "execution_count": null,
      "outputs": []
    },
    {
      "cell_type": "code",
      "metadata": {
        "colab": {
          "base_uri": "https://localhost:8080/",
          "height": 282
        },
        "id": "IHGbWq9pjDib",
        "outputId": "7fb62ee0-5824-4d60-ec18-f226cf2fa238"
      },
      "source": [
        "plt.plot(loss_epoch)"
      ],
      "execution_count": 18,
      "outputs": [
        {
          "output_type": "execute_result",
          "data": {
            "text/plain": [
              "[<matplotlib.lines.Line2D at 0x7f957054fe10>]"
            ]
          },
          "metadata": {
            "tags": []
          },
          "execution_count": 18
        },
        {
          "output_type": "display_data",
          "data": {
            "image/png": "[encoded data removed]",
            "text/plain": [
              "<Figure size 432x288 with 1 Axes>"
            ]
          },
          "metadata": {
            "tags": [],
            "needs_background": "light"
          }
        }
      ]
    },
    {
      "cell_type": "code",
      "metadata": {
        "id": "B4I653PPZupD"
      },
      "source": [
        "def translate(x,offset):\n",
        "  hidden = init_hidden(encoder,1)\n",
        "  _, context = encoder(x, offset,hidden)\n",
        "  dec_out = torch.tensor([2], dtype = torch.float)\n",
        "  loss = 0\n",
        "  s = \"\"\n",
        "  for i in range(50):\n",
        "    dec_out, context = decoder(dec_out.view(1,1,1).to(\"cuda\"), context,1)\n",
        "    # target = one_hot_vector(y[i+1])\n",
        "    # loss += criterion(dec_out.unsqueeze(0),torch.as_tensor([y[i+1]],dtype=torch.long))\n",
        "\n",
        "    dec_out = torch.argmax(dec_out).float()\n",
        "    if dec_out.item() != 0:\n",
        "      if deut_int2word[dec_out.item()] == '<eos>':\n",
        "        break\n",
        "      s +=  deut_int2word[dec_out.item()] + \" \"\n",
        "    \n",
        "  return s\n"
      ],
      "execution_count": 23,
      "outputs": []
    },
    {
      "cell_type": "code",
      "metadata": {
        "id": "1nnOtmMQ_011",
        "colab": {
          "base_uri": "https://localhost:8080/"
        },
        "outputId": "2b41972e-f88f-405d-d6e8-d4313e69abe0"
      },
      "source": [
        "r =  618\n",
        "for i in range(r,r+10):\n",
        "  x,y,offset = testset[i]\n",
        "  inpt= x.view(1,x.shape[0]).to(\"cuda\")\n",
        "  offset = torch.tensor(offset,device=\"cuda\")\n",
        "  s = translate(inpt,[offset])\n",
        "\n",
        "  print(colored(\" \".join([eng_int2word[i.item()] for i in x]), color=\"red\"),colored(s,color=\"blue\"),colored(\" \".join([deut_int2word[i.item()] for i in y]),color=\"white\"))"
      ],
      "execution_count": 36,
      "outputs": [
        {
          "output_type": "stream",
          "text": [
            "\u001b[31mthe store is open all the year round\u001b[0m \u001b[34mder laden ist das ganze ganze lang \u001b[0m \u001b[37m<sos> der laden ist das ganze jahr lang geöffnet <eos>\u001b[0m\n",
            "\u001b[31mwe ve already met\u001b[0m \u001b[34mwir haben schon schon \u001b[0m \u001b[37m<sos> wir haben uns schon kennengelernt <eos>\u001b[0m\n",
            "\u001b[31mthey re going to be ok\u001b[0m \u001b[34msie werden okay sein \u001b[0m \u001b[37m<sos> sie werden okay sein <eos>\u001b[0m\n",
            "\u001b[31mi bought lots of books\u001b[0m \u001b[34mich habe viele bücher bücher \u001b[0m \u001b[37m<sos> ich habe jede menge bücher gekauft <eos>\u001b[0m\n",
            "\u001b[31mthis cloth feels like velvet\u001b[0m \u001b[34mdiese stoff geht sich sich \u001b[0m \u001b[37m<sos> dieser stoff fühlt sich samtig an <eos>\u001b[0m\n",
            "\u001b[31mwhat made you think tom hasn t done that\u001b[0m \u001b[34mwas hat dich an tom tom das das das hat \u001b[0m \u001b[37m<sos> was brachte euch denn auf den gedanken tom hätte das nicht getan <eos>\u001b[0m\n",
            "\u001b[31mthe stars were beginning to appear\u001b[0m \u001b[34mdie polizei waren sich \u001b[0m \u001b[37m<sos> langsam kamen die sterne zum vorschein <eos>\u001b[0m\n",
            "\u001b[31mtom was definitely afraid\u001b[0m \u001b[34mtom war angst angst angst \u001b[0m \u001b[37m<sos> tom hatte definitiv angst <eos>\u001b[0m\n",
            "\u001b[31mit was an informal meeting\u001b[0m \u001b[34mes war eine sitzung \u001b[0m \u001b[37m<sos> das war ein formloses zusammentreffen <eos>\u001b[0m\n",
            "\u001b[31myou handled that very skillfully\u001b[0m \u001b[34mdu hast das sehr sehr \u001b[0m \u001b[37m<sos> du hast das sehr gekonnt hinbekommen <eos>\u001b[0m\n"
          ],
          "name": "stdout"
        }
      ]
    }
  ]
}